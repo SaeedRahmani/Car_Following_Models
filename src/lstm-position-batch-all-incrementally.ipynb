{
 "cells": [
  {
   "cell_type": "code",
   "execution_count": 1,
   "metadata": {},
   "outputs": [],
   "source": [
    "import numpy as np\n",
    "import pandas as pd\n",
    "import torch\n",
    "import torch.nn as nn\n",
    "from sklearn.preprocessing import MinMaxScaler\n",
    "import matplotlib.pyplot as plt\n",
    "\n",
    "# Load data\n",
    "data = pd.read_csv('/path/to/your/data.csv')\n",
    "\n",
    "# Preprocess data\n",
    "features = ['v_follow', 'spacing', 'relative_speed']\n",
    "target = 'x_follow'\n",
    "\n",
    "scaler = MinMaxScaler()\n",
    "data[features] = scaler.fit_transform(data[features])\n",
    "\n",
    "target_scaler = MinMaxScaler()\n",
    "data[[target]] = target_scaler.fit_transform(data[[target]])"
   ]
  },
  {
   "cell_type": "code",
   "execution_count": null,
   "metadata": {},
   "outputs": [],
   "source": [
    "def create_sequences(data, seq_length):\n",
    "    sequences = []\n",
    "    targets = []\n",
    "    for i in range(len(data) - seq_length + 1):\n",
    "        seq = data.iloc[i:i+seq_length][features].values\n",
    "        label = data.iloc[i+seq_length-1][target]\n",
    "        sequences.append(seq)\n",
    "        targets.append(label)\n",
    "    return np.array(sequences), np.array(targets)\n",
    "\n",
    "seq_length = 50"
   ]
  },
  {
   "cell_type": "code",
   "execution_count": null,
   "metadata": {},
   "outputs": [],
   "source": [
    "# Build LSTM model\n",
    "class LSTM(nn.Module):\n",
    "    def __init__(self, input_size, hidden_layer_size, num_layers, output_size):\n",
    "        super().__init__()\n",
    "        self.hidden_layer_size = hidden_layer_size\n",
    "        self.num_layers = num_layers\n",
    "        self.lstm = nn.LSTM(input_size, hidden_layer_size, num_layers, batch_first=True)\n",
    "        self.linear = nn.Linear(hidden_layer_size, output_size)\n",
    "        \n",
    "    def forward(self, input_seq):\n",
    "        h_0 = torch.zeros(self.num_layers, input_seq.size(0), self.hidden_layer_size)\n",
    "        c_0 = torch.zeros(self.num_layers, input_seq.size(0), self.hidden_layer_size)\n",
    "        out, _ = self.lstm(input_seq, (h_0, c_0))\n",
    "        out = self.linear(out[:, -1, :])\n",
    "        return out"
   ]
  },
  {
   "cell_type": "code",
   "execution_count": null,
   "metadata": {},
   "outputs": [],
   "source": [
    "input_size = 3\n",
    "hidden_layer_size = 100\n",
    "num_layers = 2\n",
    "output_size = 1\n",
    "\n",
    "model = LSTM(input_size, hidden_layer_size, num_layers, output_size)\n",
    "\n",
    "loss_function = nn.MSELoss()\n",
    "optimizer = torch.optim.Adam(model.parameters(), lr=0.001)"
   ]
  },
  {
   "cell_type": "code",
   "execution_count": null,
   "metadata": {},
   "outputs": [],
   "source": [
    "# Train the model on each of the first 2500 vehicle pairs\n",
    "for pair_id in range(1, 2501):\n",
    "    train_data = data[data['pair_id'] == pair_id]\n",
    "    X_train, y_train = create_sequences(train_data, seq_length)\n",
    "    X_train = torch.tensor(X_train, dtype=torch.float32)\n",
    "    y_train = torch.tensor(y_train, dtype=torch.float32)\n",
    "    train_data = torch.utils.data.TensorDataset(X_train, y_train)\n",
    "    train_loader = torch.utils.data.DataLoader(train_data, batch_size=32, shuffle=True, drop_last=False)\n",
    "    \n",
    "    epochs = 150\n",
    "    for i in range(epochs):\n",
    "        for seq, labels in train_loader:\n",
    "            optimizer.zero_grad()\n",
    "            y_pred = model(seq)\n",
    "            single_loss = loss_function(y_pred.view(-1), labels)\n",
    "            single_loss.backward()\n",
    "            optimizer.step()\n",
    "    if pair_id % 100 == 0:\n",
    "        print(f'Pair {pair_id} loss: {single_loss.item():10.8f}')"
   ]
  },
  {
   "cell_type": "code",
   "execution_count": null,
   "metadata": {},
   "outputs": [],
   "source": [
    "# Test the model on the remaining 500 vehicle pairs\n",
    "test_data = data[data['pair_id'] > 2500]\n",
    "X_test, y_test = create_sequences(test_data, seq_length)\n",
    "X_test = torch.tensor(X_test, dtype=torch.float32)\n",
    "y_test = torch.tensor(y_test, dtype=torch.float32)"
   ]
  },
  {
   "cell_type": "code",
   "execution_count": null,
   "metadata": {},
   "outputs": [],
   "source": [
    "# Evaluate the model\n",
    "model.eval()\n",
    "with torch.no_grad():\n",
    "    y_pred = model(X_test.view(-1, seq_length, input_size))\n",
    "\n",
    "# Denormalize the data\n",
    "y_test_denorm = target_scaler.inverse_transform(y_test.reshape(-1, 1)).reshape(-1)\n",
    "y_pred_denorm = target_scaler.inverse_transform(y_pred.view(-1, 1)).reshape(-1)\n",
    "\n",
    "# Plot actual vs predicted values\n",
    "plt.figure(figsize=(12, 4))\n",
    "plt.plot(y_test_denorm, label='True')\n",
    "plt.plot(y_pred_denorm, label='Predicted')\n",
    "plt.legend()\n",
    "plt.show()"
   ]
  }
 ],
 "metadata": {
  "kernelspec": {
   "display_name": "traffic-flow-course",
   "language": "python",
   "name": "python3"
  },
  "language_info": {
   "codemirror_mode": {
    "name": "ipython",
    "version": 3
   },
   "file_extension": ".py",
   "mimetype": "text/x-python",
   "name": "python",
   "nbconvert_exporter": "python",
   "pygments_lexer": "ipython3",
   "version": "3.11.4"
  },
  "orig_nbformat": 4
 },
 "nbformat": 4,
 "nbformat_minor": 2
}
