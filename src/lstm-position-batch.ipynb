{
 "cells": [
  {
   "cell_type": "code",
   "execution_count": 1,
   "metadata": {},
   "outputs": [],
   "source": [
    "import numpy as np\n",
    "import pandas as pd\n",
    "import torch\n",
    "import torch.nn as nn\n",
    "from sklearn.preprocessing import MinMaxScaler\n",
    "import matplotlib.pyplot as plt\n",
    "\n",
    "# Load data\n",
    "data = pd.read_csv('data.csv')"
   ]
  },
  {
   "cell_type": "code",
   "execution_count": 2,
   "metadata": {},
   "outputs": [],
   "source": [
    "# Preprocess data\n",
    "features = ['v_follow', 'spacing', 'relative_speed']\n",
    "target = 'x_follow'\n",
    "\n",
    "scaler = MinMaxScaler()\n",
    "data[features] = scaler.fit_transform(data[features])\n",
    "\n",
    "target_scaler = MinMaxScaler()\n",
    "data[[target]] = target_scaler.fit_transform(data[[target]])"
   ]
  },
  {
   "cell_type": "code",
   "execution_count": 3,
   "metadata": {},
   "outputs": [],
   "source": [
    "def create_sequences(data, seq_length):\n",
    "    sequences = []\n",
    "    targets = []\n",
    "    for i in range(len(data) - seq_length + 1):\n",
    "        seq = data.iloc[i:i+seq_length][features].values\n",
    "        label = data.iloc[i+seq_length-1][target]\n",
    "        sequences.append(seq)\n",
    "        targets.append(label)\n",
    "    return np.array(sequences), np.array(targets)\n"
   ]
  },
  {
   "cell_type": "code",
   "execution_count": 4,
   "metadata": {},
   "outputs": [],
   "source": [
    "seq_length = 50\n",
    "\n",
    "train_size = int(len(data) * 0.7) + seq_length - 1\n",
    "train_data, test_data = data.iloc[:train_size], data.iloc[train_size-seq_length+1:]\n",
    "\n",
    "X_train, y_train = create_sequences(train_data, seq_length)\n",
    "X_test, y_test = create_sequences(test_data, seq_length)\n",
    "\n",
    "\n",
    "X_train = torch.tensor(X_train, dtype=torch.float32)\n",
    "y_train = torch.tensor(y_train, dtype=torch.float32)\n",
    "X_test = torch.tensor(X_test, dtype=torch.float32)\n",
    "y_test = torch.tensor(y_test, dtype=torch.float32)"
   ]
  },
  {
   "cell_type": "code",
   "execution_count": 5,
   "metadata": {},
   "outputs": [],
   "source": [
    "# Create DataLoader objects\n",
    "# train_data = torch.utils.data.TensorDataset(X_train, y_train)\n",
    "# train_loader = torch.utils.data.DataLoader(train_data, batch_size=32, shuffle=True)\n",
    "\n",
    "# test_data = torch.utils.data.TensorDataset(X_test, y_test)\n",
    "# test_loader = torch.utils.data.DataLoader(test_data, batch_size=32)\n",
    "train_data = torch.utils.data.TensorDataset(X_train, y_train)\n",
    "train_loader = torch.utils.data.DataLoader(train_data, batch_size=32, shuffle=True, drop_last=False)\n",
    "\n",
    "test_data = torch.utils.data.TensorDataset(X_test, y_test)\n",
    "test_loader = torch.utils.data.DataLoader(test_data, batch_size=32, drop_last=False)\n"
   ]
  },
  {
   "cell_type": "code",
   "execution_count": 6,
   "metadata": {},
   "outputs": [
    {
     "name": "stdout",
     "output_type": "stream",
     "text": [
      "(tensor([[[0.2428, 0.6641, 0.0267],\n",
      "         [0.2630, 0.6803, 0.0409],\n",
      "         [0.2846, 0.6958, 0.0556],\n",
      "         ...,\n",
      "         [0.9291, 0.9848, 0.6127],\n",
      "         [0.9330, 0.9823, 0.6260],\n",
      "         [0.9407, 0.9795, 0.6304]],\n",
      "\n",
      "        [[0.2630, 0.6803, 0.0409],\n",
      "         [0.2846, 0.6958, 0.0556],\n",
      "         [0.3049, 0.7105, 0.0682],\n",
      "         ...,\n",
      "         [0.9330, 0.9823, 0.6260],\n",
      "         [0.9407, 0.9795, 0.6304],\n",
      "         [0.9436, 0.9769, 0.6432]],\n",
      "\n",
      "        [[0.2846, 0.6958, 0.0556],\n",
      "         [0.3049, 0.7105, 0.0682],\n",
      "         [0.3281, 0.7245, 0.0781],\n",
      "         ...,\n",
      "         [0.9407, 0.9795, 0.6304],\n",
      "         [0.9436, 0.9769, 0.6432],\n",
      "         [0.9497, 0.9741, 0.6565]],\n",
      "\n",
      "        ...,\n",
      "\n",
      "        [[0.5119, 0.8404, 0.2197],\n",
      "         [0.5157, 0.8519, 0.2163],\n",
      "         [0.5419, 0.8606, 0.2386],\n",
      "         ...,\n",
      "         [0.9908, 0.9526, 0.6591],\n",
      "         [0.9928, 0.9502, 0.6572],\n",
      "         [0.9956, 0.9481, 0.6574]],\n",
      "\n",
      "        [[0.5157, 0.8519, 0.2163],\n",
      "         [0.5419, 0.8606, 0.2386],\n",
      "         [0.5525, 0.8703, 0.2463],\n",
      "         ...,\n",
      "         [0.9928, 0.9502, 0.6572],\n",
      "         [0.9956, 0.9481, 0.6574],\n",
      "         [0.9984, 0.9462, 0.6637]],\n",
      "\n",
      "        [[0.5419, 0.8606, 0.2386],\n",
      "         [0.5525, 0.8703, 0.2463],\n",
      "         [0.5568, 0.8814, 0.2325],\n",
      "         ...,\n",
      "         [0.9956, 0.9481, 0.6574],\n",
      "         [0.9984, 0.9462, 0.6637],\n",
      "         [1.0000, 0.9442, 0.6689]]]), tensor([0.8735, 0.8813, 0.8891, 0.8969, 0.9046, 0.9125, 0.9203, 0.9282, 0.9361,\n",
      "        0.9440, 0.9520, 0.9600, 0.9680, 0.9760, 0.9840, 0.9920, 1.0000]))\n"
     ]
    }
   ],
   "source": [
    "print(test_data.tensors)\n"
   ]
  },
  {
   "cell_type": "code",
   "execution_count": 7,
   "metadata": {},
   "outputs": [
    {
     "name": "stdout",
     "output_type": "stream",
     "text": [
      "Batch 1:\n",
      "Sequences: tensor([[[0.2428, 0.6641, 0.0267],\n",
      "         [0.2630, 0.6803, 0.0409],\n",
      "         [0.2846, 0.6958, 0.0556],\n",
      "         ...,\n",
      "         [0.9291, 0.9848, 0.6127],\n",
      "         [0.9330, 0.9823, 0.6260],\n",
      "         [0.9407, 0.9795, 0.6304]],\n",
      "\n",
      "        [[0.2630, 0.6803, 0.0409],\n",
      "         [0.2846, 0.6958, 0.0556],\n",
      "         [0.3049, 0.7105, 0.0682],\n",
      "         ...,\n",
      "         [0.9330, 0.9823, 0.6260],\n",
      "         [0.9407, 0.9795, 0.6304],\n",
      "         [0.9436, 0.9769, 0.6432]],\n",
      "\n",
      "        [[0.2846, 0.6958, 0.0556],\n",
      "         [0.3049, 0.7105, 0.0682],\n",
      "         [0.3281, 0.7245, 0.0781],\n",
      "         ...,\n",
      "         [0.9407, 0.9795, 0.6304],\n",
      "         [0.9436, 0.9769, 0.6432],\n",
      "         [0.9497, 0.9741, 0.6565]],\n",
      "\n",
      "        ...,\n",
      "\n",
      "        [[0.5119, 0.8404, 0.2197],\n",
      "         [0.5157, 0.8519, 0.2163],\n",
      "         [0.5419, 0.8606, 0.2386],\n",
      "         ...,\n",
      "         [0.9908, 0.9526, 0.6591],\n",
      "         [0.9928, 0.9502, 0.6572],\n",
      "         [0.9956, 0.9481, 0.6574]],\n",
      "\n",
      "        [[0.5157, 0.8519, 0.2163],\n",
      "         [0.5419, 0.8606, 0.2386],\n",
      "         [0.5525, 0.8703, 0.2463],\n",
      "         ...,\n",
      "         [0.9928, 0.9502, 0.6572],\n",
      "         [0.9956, 0.9481, 0.6574],\n",
      "         [0.9984, 0.9462, 0.6637]],\n",
      "\n",
      "        [[0.5419, 0.8606, 0.2386],\n",
      "         [0.5525, 0.8703, 0.2463],\n",
      "         [0.5568, 0.8814, 0.2325],\n",
      "         ...,\n",
      "         [0.9956, 0.9481, 0.6574],\n",
      "         [0.9984, 0.9462, 0.6637],\n",
      "         [1.0000, 0.9442, 0.6689]]])\n",
      "Labels: tensor([0.8735, 0.8813, 0.8891, 0.8969, 0.9046, 0.9125, 0.9203, 0.9282, 0.9361,\n",
      "        0.9440, 0.9520, 0.9600, 0.9680, 0.9760, 0.9840, 0.9920, 1.0000])\n"
     ]
    }
   ],
   "source": [
    "for i, (seq, labels) in enumerate(test_loader):\n",
    "    print(f'Batch {i+1}:')\n",
    "    print('Sequences:', seq)\n",
    "    print('Labels:', labels)"
   ]
  },
  {
   "cell_type": "code",
   "execution_count": 1,
   "metadata": {},
   "outputs": [
    {
     "ename": "NameError",
     "evalue": "name 'nn' is not defined",
     "output_type": "error",
     "traceback": [
      "\u001b[0;31m---------------------------------------------------------------------------\u001b[0m",
      "\u001b[0;31mNameError\u001b[0m                                 Traceback (most recent call last)",
      "Cell \u001b[0;32mIn[1], line 2\u001b[0m\n\u001b[1;32m      1\u001b[0m \u001b[39m# Build LSTM model\u001b[39;00m\n\u001b[0;32m----> 2\u001b[0m \u001b[39mclass\u001b[39;00m \u001b[39mLSTM\u001b[39;00m(nn\u001b[39m.\u001b[39mModule):\n\u001b[1;32m      3\u001b[0m     \u001b[39mdef\u001b[39;00m \u001b[39m__init__\u001b[39m(\u001b[39mself\u001b[39m, input_size, hidden_layer_size, num_layers, output_size):\n\u001b[1;32m      4\u001b[0m         \u001b[39msuper\u001b[39m()\u001b[39m.\u001b[39m\u001b[39m__init__\u001b[39m()\n",
      "\u001b[0;31mNameError\u001b[0m: name 'nn' is not defined"
     ]
    }
   ],
   "source": [
    "# Build LSTM model\n",
    "class LSTM(nn.Module):\n",
    "    def __init__(self, input_size, hidden_layer_size, num_layers, output_size):\n",
    "        super().__init__()\n",
    "        self.hidden_layer_size = hidden_layer_size\n",
    "        self.num_layers = num_layers\n",
    "        self.lstm = nn.LSTM(input_size, hidden_layer_size, num_layers, batch_first=True)\n",
    "        self.linear = nn.Linear(hidden_layer_size, output_size)\n",
    "        \n",
    "    def forward(self, input_seq):\n",
    "        h_0 = torch.zeros(self.num_layers, input_seq.size(0), self.hidden_layer_size)\n",
    "        c_0 = torch.zeros(self.num_layers, input_seq.size(0), self.hidden_layer_size)\n",
    "        out, _ = self.lstm(input_seq, (h_0, c_0))\n",
    "        out = self.linear(out[:, -1, :])\n",
    "        return out"
   ]
  },
  {
   "cell_type": "code",
   "execution_count": 9,
   "metadata": {},
   "outputs": [],
   "source": [
    "input_size = 3\n",
    "hidden_layer_size = 100\n",
    "num_layers = 2\n",
    "output_size = 1\n",
    "\n",
    "model = LSTM(input_size, hidden_layer_size, num_layers, output_size)\n",
    "\n",
    "loss_function = nn.MSELoss()\n",
    "optimizer = torch.optim.Adam(model.parameters(), lr=0.001)"
   ]
  },
  {
   "cell_type": "code",
   "execution_count": 10,
   "metadata": {},
   "outputs": [
    {
     "name": "stdout",
     "output_type": "stream",
     "text": [
      "epoch   1 loss: 0.03927350\n",
      "epoch  26 loss: 0.00249659\n",
      "epoch  51 loss: 0.00029980\n",
      "epoch  76 loss: 0.00024733\n",
      "epoch 101 loss: 0.00013897\n",
      "epoch 126 loss: 0.00031196\n",
      "epoch 149 loss: 0.0001380066\n"
     ]
    }
   ],
   "source": [
    "# Train the model\n",
    "epochs = 150\n",
    "for i in range(epochs):\n",
    "    for seq, labels in train_loader:\n",
    "        optimizer.zero_grad()\n",
    "        y_pred = model(seq)\n",
    "        single_loss = loss_function(y_pred.view(-1), labels)\n",
    "        single_loss.backward()\n",
    "        optimizer.step()\n",
    "    if i%25 == 1:\n",
    "        print(f'epoch {i:3} loss: {single_loss.item():10.8f}')\n",
    "\n",
    "print(f'epoch {i:3} loss: {single_loss.item():10.10f}')"
   ]
  },
  {
   "cell_type": "code",
   "execution_count": 11,
   "metadata": {},
   "outputs": [
    {
     "name": "stdout",
     "output_type": "stream",
     "text": [
      "5\n",
      "torch.Size([154, 50, 3])\n"
     ]
    }
   ],
   "source": [
    "print(len(train_loader))\n",
    "print(X_train.shape)\n"
   ]
  },
  {
   "cell_type": "code",
   "execution_count": 12,
   "metadata": {},
   "outputs": [],
   "source": [
    "# Evaluate the model\n",
    "model.eval()\n",
    "test_loss = 0\n",
    "y_pred = []\n",
    "with torch.no_grad():\n",
    "    for seq, labels in test_loader:\n",
    "        y_test_pred = model(seq)\n",
    "        y_pred.append(y_test_pred)\n",
    "        \n",
    "y_pred = torch.cat(y_pred, dim=0)\n",
    "\n",
    "\n"
   ]
  },
  {
   "cell_type": "code",
   "execution_count": 13,
   "metadata": {},
   "outputs": [],
   "source": [
    "\n",
    "# Denormalize the data\n",
    "y_test_denorm = target_scaler.inverse_transform(y_test.reshape(-1, 1)).reshape(-1)\n",
    "y_pred_denorm = target_scaler.inverse_transform(y_pred.reshape(-1, 1)).reshape(-1)\n"
   ]
  },
  {
   "cell_type": "code",
   "execution_count": 14,
   "metadata": {},
   "outputs": [
    {
     "data": {
      "image/png": "[encoded data removed]",
      "text/plain": [
       "<Figure size 1200x400 with 1 Axes>"
      ]
     },
     "metadata": {},
     "output_type": "display_data"
    }
   ],
   "source": [
    "# Plot actual vs predicted values\n",
    "plt.figure(figsize=(12, 4))\n",
    "plt.plot(y_test_denorm, label='True')\n",
    "plt.plot(y_pred_denorm, label='Predicted')\n",
    "plt.legend()\n",
    "plt.show()"
   ]
  }
 ],
 "metadata": {
  "kernelspec": {
   "display_name": "traffic-flow-course",
   "language": "python",
   "name": "python3"
  },
  "language_info": {
   "codemirror_mode": {
    "name": "ipython",
    "version": 3
   },
   "file_extension": ".py",
   "mimetype": "text/x-python",
   "name": "python",
   "nbconvert_exporter": "python",
   "pygments_lexer": "ipython3",
   "version": "3.11.4"
  },
  "orig_nbformat": 4
 },
 "nbformat": 4,
 "nbformat_minor": 2
}
